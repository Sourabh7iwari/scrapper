{
 "cells": [
  {
   "cell_type": "code",
   "execution_count": 3,
   "metadata": {},
   "outputs": [
    {
     "name": "stdout",
     "output_type": "stream",
     "text": [
      "<class 'pandas.core.frame.DataFrame'>\n",
      "RangeIndex: 0 entries\n",
      "Data columns (total 7 columns):\n",
      " #   Column       Non-Null Count  Dtype \n",
      "---  ------       --------------  ----- \n",
      " 0   id           0 non-null      object\n",
      " 1   profile_url  0 non-null      object\n",
      " 2   content      0 non-null      object\n",
      " 3   date         0 non-null      object\n",
      " 4   media_type   0 non-null      object\n",
      " 5   likes        0 non-null      object\n",
      " 6   comments     0 non-null      object\n",
      "dtypes: object(7)\n",
      "memory usage: 132.0+ bytes\n",
      "None\n"
     ]
    },
    {
     "name": "stderr",
     "output_type": "stream",
     "text": [
      "/tmp/ipykernel_109216/3391384573.py:25: UserWarning: pandas only supports SQLAlchemy connectable (engine/connection) or database string URI or sqlite3 DBAPI2 connection. Other DBAPI2 objects are not tested. Please consider using SQLAlchemy.\n",
      "  posts_df = pd.read_sql(query, conn)\n"
     ]
    },
    {
     "data": {
      "text/html": [
       "<div>\n",
       "<style scoped>\n",
       "    .dataframe tbody tr th:only-of-type {\n",
       "        vertical-align: middle;\n",
       "    }\n",
       "\n",
       "    .dataframe tbody tr th {\n",
       "        vertical-align: top;\n",
       "    }\n",
       "\n",
       "    .dataframe thead th {\n",
       "        text-align: right;\n",
       "    }\n",
       "</style>\n",
       "<table border=\"1\" class=\"dataframe\">\n",
       "  <thead>\n",
       "    <tr style=\"text-align: right;\">\n",
       "      <th></th>\n",
       "      <th>id</th>\n",
       "      <th>profile_url</th>\n",
       "      <th>content</th>\n",
       "      <th>date</th>\n",
       "      <th>media_type</th>\n",
       "      <th>likes</th>\n",
       "      <th>comments</th>\n",
       "    </tr>\n",
       "  </thead>\n",
       "  <tbody>\n",
       "  </tbody>\n",
       "</table>\n",
       "</div>"
      ],
      "text/plain": [
       "Empty DataFrame\n",
       "Columns: [id, profile_url, content, date, media_type, likes, comments]\n",
       "Index: []"
      ]
     },
     "execution_count": 3,
     "metadata": {},
     "output_type": "execute_result"
    }
   ],
   "source": [
    "import psycopg2\n",
    "import pandas as pd\n",
    "from dotenv import load_dotenv\n",
    "import os\n",
    "\n",
    "load_dotenv()\n",
    "# Set database connection parameters\n",
    "DB_NAME = 'linkedin_scraper'\n",
    "DB_USER = 'postgres'\n",
    "DB_HOST = 'localhost'\n",
    "DB_PORT = '5432'\n",
    "DB_PASSWORD = os.getenv('DB_PASSWORD')  # Only the password is stored in env variables\n",
    "\n",
    "# Establish the connection to PostgreSQL\n",
    "conn = psycopg2.connect(\n",
    "    dbname=DB_NAME,\n",
    "    user=DB_USER,\n",
    "    password=DB_PASSWORD,\n",
    "    host=DB_HOST,\n",
    "    port=DB_PORT\n",
    ")\n",
    "\n",
    "# Load the data into a DataFrame\n",
    "query = \"SELECT * FROM linkedin_posts;\"\n",
    "posts_df = pd.read_sql(query, conn)\n",
    "\n",
    "# Display the structure of the DataFrame\n",
    "print(posts_df.info())\n",
    "posts_df.head()\n"
   ]
  },
  {
   "cell_type": "code",
   "execution_count": null,
   "metadata": {},
   "outputs": [],
   "source": [
    "import numpy as np\n",
    "import matplotlib.pyplot as plt\n",
    "import seaborn as sns\n",
    "\n",
    "# Calculate the average monthly posting frequency\n",
    "posts_df['date'] = pd.to_datetime(posts_df['date'])\n",
    "posts_df['month'] = posts_df['date'].dt.to_period('M')\n",
    "monthly_posting_frequency = posts_df.groupby(['profile_url', 'month']).size().groupby('profile_url').mean()\n",
    "average_monthly_frequency = monthly_posting_frequency.mean()\n",
    "print(f\"Average Monthly Posting Frequency: {average_monthly_frequency:.2f} posts per month\")\n",
    "\n",
    "# Calculate average post length\n",
    "posts_df['post_length'] = posts_df['content'].apply(lambda x: len(x.split()) if x else 0)\n",
    "average_post_length = posts_df['post_length'].mean()\n",
    "print(f\"Average Post Length: {average_post_length:.2f} words\")\n",
    "\n",
    "# Average number of likes per media type\n",
    "likes_by_media = posts_df.groupby('media_type')['likes'].mean()\n",
    "print(\"Average Likes by Media Type:\")\n",
    "print(likes_by_media)\n",
    "\n",
    "# Average number of comments per media type\n",
    "comments_by_media = posts_df.groupby('media_type')['comments'].mean()\n",
    "print(\"Average Comments by Media Type:\")\n",
    "print(comments_by_media)\n",
    "\n",
    "# Additional Insight: Median engagement (likes + comments) by media type\n",
    "posts_df['total_engagement'] = posts_df['likes'] + posts_df['comments']\n",
    "median_engagement_by_media = posts_df.groupby('media_type')['total_engagement'].median()\n",
    "print(\"Median Engagement by Media Type:\")\n",
    "print(median_engagement_by_media)\n"
   ]
  }
 ],
 "metadata": {
  "kernelspec": {
   "display_name": ".venv",
   "language": "python",
   "name": "python3"
  },
  "language_info": {
   "codemirror_mode": {
    "name": "ipython",
    "version": 3
   },
   "file_extension": ".py",
   "mimetype": "text/x-python",
   "name": "python",
   "nbconvert_exporter": "python",
   "pygments_lexer": "ipython3",
   "version": "3.12.3"
  }
 },
 "nbformat": 4,
 "nbformat_minor": 2
}
